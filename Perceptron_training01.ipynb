{
  "nbformat": 4,
  "nbformat_minor": 0,
  "metadata": {
    "colab": {
      "name": "Perceptron_training01.ipynb",
      "provenance": [],
      "collapsed_sections": [],
      "authorship_tag": "ABX9TyOuRoAgc84PU+iO4jpXQb9O",
      "include_colab_link": true
    },
    "kernelspec": {
      "name": "python3",
      "display_name": "Python 3"
    },
    "language_info": {
      "name": "python"
    }
  },
  "cells": [
    {
      "cell_type": "markdown",
      "metadata": {
        "id": "view-in-github",
        "colab_type": "text"
      },
      "source": [
        "<a href=\"https://colab.research.google.com/github/Akshara604/MLnow_GirlScript/blob/main/Perceptron_training01.ipynb\" target=\"_parent\"><img src=\"https://colab.research.google.com/assets/colab-badge.svg\" alt=\"Open In Colab\"/></a>"
      ]
    },
    {
      "cell_type": "code",
      "metadata": {
        "colab": {
          "base_uri": "https://localhost:8080/"
        },
        "id": "FKedQi3NMrxp",
        "outputId": "8ef3bcef-f9c0-4b3b-8788-05d691db53bf"
      },
      "source": [
        " print(\"Hello World!\")\n",
        "print(3+3)\n",
        "print(\"It's my birth date\")"
      ],
      "execution_count": null,
      "outputs": [
        {
          "output_type": "stream",
          "text": [
            "Hello World!\n",
            "6\n",
            "It's my birth date\n"
          ],
          "name": "stdout"
        }
      ]
    }
  ]
}