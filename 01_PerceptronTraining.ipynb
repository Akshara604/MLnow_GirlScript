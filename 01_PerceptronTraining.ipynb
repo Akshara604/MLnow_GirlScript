{
  "nbformat": 4,
  "nbformat_minor": 0,
  "metadata": {
    "colab": {
      "name": "01_PerceptronTraining.ipynb",
      "provenance": [],
      "mount_file_id": "17uu3ZeZuPc4V0vWY6jzz_IPM7QtlJGIq",
      "authorship_tag": "ABX9TyNUAKY62ICsK7wj94He3DLs",
      "include_colab_link": true
    },
    "kernelspec": {
      "name": "python3",
      "display_name": "Python 3"
    },
    "language_info": {
      "name": "python"
    }
  },
  "cells": [
    {
      "cell_type": "markdown",
      "metadata": {
        "id": "view-in-github",
        "colab_type": "text"
      },
      "source": [
        "<a href=\"https://colab.research.google.com/github/shivanishimpi/MLnow_GirlScript/blob/main/01_PerceptronTraining.ipynb\" target=\"_parent\"><img src=\"https://colab.research.google.com/assets/colab-badge.svg\" alt=\"Open In Colab\"/></a>"
      ]
    },
    {
      "cell_type": "markdown",
      "metadata": {
        "id": "llX9hB9bcXzj"
      },
      "source": [
        "**Date Created**: May 23, 2021\n",
        "\n",
        "Author: [Shivani Shimpi](https://github.com/shivanishimpi)\n"
      ]
    },
    {
      "cell_type": "markdown",
      "metadata": {
        "id": "wVilfTHfcxgL"
      },
      "source": [
        "# Problem Statement\n",
        "\n",
        "Train a model to learn the table of 10\n",
        "\n",
        "Equation: `y = 10*x` \n"
      ]
    },
    {
      "cell_type": "markdown",
      "metadata": {
        "id": "NHNYAQUqdF9T"
      },
      "source": [
        "## Data Creation\n",
        "\n",
        "\n",
        "Equation: `y=10x`\n",
        "\n",
        "Target --> \n",
        "```\n",
        "x = [0, 1, 2, 3, 4, 5,...]\n",
        "\n",
        "y = [0, 10, 20, 30, 40, 50,...]\n",
        "```"
      ]
    },
    {
      "cell_type": "code",
      "metadata": {
        "colab": {
          "base_uri": "https://localhost:8080/"
        },
        "id": "mhCZGsvueXkI",
        "outputId": "d7618a47-5366-4a44-d97d-a7a274fdc510"
      },
      "source": [
        "x = [i for i in range(21)] #list comprehension\n",
        "print(x)"
      ],
      "execution_count": 18,
      "outputs": [
        {
          "output_type": "stream",
          "text": [
            "[0, 1, 2, 3, 4, 5, 6, 7, 8, 9, 10, 11, 12, 13, 14, 15, 16, 17, 18, 19, 20]\n"
          ],
          "name": "stdout"
        }
      ]
    },
    {
      "cell_type": "code",
      "metadata": {
        "colab": {
          "base_uri": "https://localhost:8080/"
        },
        "id": "9ut91uK_d7tA",
        "outputId": "d56ff801-a34e-4073-8bec-ab60a0f9b3c3"
      },
      "source": [
        "y = [i for i in range(10*20+1) if i%10==0]\n",
        "print(y)"
      ],
      "execution_count": 19,
      "outputs": [
        {
          "output_type": "stream",
          "text": [
            "[0, 10, 20, 30, 40, 50, 60, 70, 80, 90, 100, 110, 120, 130, 140, 150, 160, 170, 180, 190, 200]\n"
          ],
          "name": "stdout"
        }
      ]
    },
    {
      "cell_type": "markdown",
      "metadata": {
        "id": "AOBfE4rOgT_d"
      },
      "source": [
        "## Approach 1\n",
        "\n",
        "Defining a function for the equation `y = 10x`"
      ]
    },
    {
      "cell_type": "code",
      "metadata": {
        "colab": {
          "base_uri": "https://localhost:8080/"
        },
        "id": "xmEJfDVRga4b",
        "outputId": "47606c7e-5ef6-4b68-c7ba-5ba620f98090"
      },
      "source": [
        "def tableofTen(x):\n",
        "  y = 10*x\n",
        "  return y\n",
        "\n",
        "\n",
        "for value in x:\n",
        "  print(tableofTen(value))"
      ],
      "execution_count": 20,
      "outputs": [
        {
          "output_type": "stream",
          "text": [
            "0\n",
            "10\n",
            "20\n",
            "30\n",
            "40\n",
            "50\n",
            "60\n",
            "70\n",
            "80\n",
            "90\n",
            "100\n",
            "110\n",
            "120\n",
            "130\n",
            "140\n",
            "150\n",
            "160\n",
            "170\n",
            "180\n",
            "190\n",
            "200\n"
          ],
          "name": "stdout"
        }
      ]
    },
    {
      "cell_type": "markdown",
      "metadata": {
        "id": "r7lini7MhYaz"
      },
      "source": [
        "## Approach 2\n",
        "\n",
        "I am super enthusiastic about ML so I'm gonna make a redundant ML model for the table of 10\n"
      ]
    },
    {
      "cell_type": "markdown",
      "metadata": {
        "id": "nWY41XrAhvgo"
      },
      "source": [
        "You're going to need `xTrain`, `yTrain`, `xTest`, and `yTest` from the `x` and `y` lists"
      ]
    },
    {
      "cell_type": "code",
      "metadata": {
        "colab": {
          "base_uri": "https://localhost:8080/"
        },
        "id": "XVLkGH0Ph9Lw",
        "outputId": "010ada62-37ba-468c-f9d4-bd14c8968cff"
      },
      "source": [
        "print(f'This is x: {x}')\n",
        "print(f'This is y: {y}')"
      ],
      "execution_count": 21,
      "outputs": [
        {
          "output_type": "stream",
          "text": [
            "This is x: [0, 1, 2, 3, 4, 5, 6, 7, 8, 9, 10, 11, 12, 13, 14, 15, 16, 17, 18, 19, 20]\n",
            "This is y: [0, 10, 20, 30, 40, 50, 60, 70, 80, 90, 100, 110, 120, 130, 140, 150, 160, 170, 180, 190, 200]\n"
          ],
          "name": "stdout"
        }
      ]
    },
    {
      "cell_type": "code",
      "metadata": {
        "colab": {
          "base_uri": "https://localhost:8080/"
        },
        "id": "6qbrM_lOhARR",
        "outputId": "d9671984-642b-44d8-b774-f3eb699eb296"
      },
      "source": [
        "xTrain = x[:-5] #Training Data\n",
        "yTrain = y[:-5] #Training Labels\n",
        "\n",
        "xTest = x[-5:] #Testing Data\n",
        "yTest = y[-5:] #Testing Labels\n",
        "\n",
        "print(f'''\n",
        "Training Data:\n",
        "\n",
        "xTrain : {xTrain}\n",
        "yTrain : {yTrain}\n",
        "\n",
        "Testing Data:\n",
        "\n",
        "xTest : {xTest}\n",
        "yTest : {yTest}\n",
        "''')"
      ],
      "execution_count": 31,
      "outputs": [
        {
          "output_type": "stream",
          "text": [
            "\n",
            "Training Data:\n",
            "\n",
            "xTrain : [0, 1, 2, 3, 4, 5, 6, 7, 8, 9, 10, 11, 12, 13, 14, 15]\n",
            "yTrain : [0, 10, 20, 30, 40, 50, 60, 70, 80, 90, 100, 110, 120, 130, 140, 150]\n",
            "\n",
            "Testing Data:\n",
            "\n",
            "xTest : [16, 17, 18, 19, 20]\n",
            "yTest : [160, 170, 180, 190, 200]\n",
            "\n"
          ],
          "name": "stdout"
        }
      ]
    },
    {
      "cell_type": "code",
      "metadata": {
        "id": "hQ5BsgPjkD2z"
      },
      "source": [
        "import tensorflow as tf\n",
        "from tensorflow import keras"
      ],
      "execution_count": 32,
      "outputs": []
    },
    {
      "cell_type": "code",
      "metadata": {
        "id": "QUPQHftSkj-R"
      },
      "source": [
        "#perceptron model\n",
        "\n",
        "model = tf.keras.Sequential([\n",
        "                             tf.keras.layers.Dense\n",
        "])"
      ],
      "execution_count": null,
      "outputs": []
    }
  ]
}